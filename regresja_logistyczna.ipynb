{
 "cells": [
  {
   "cell_type": "markdown",
   "id": "18e542c8-c9c3-4732-98af-d9874306a859",
   "metadata": {},
   "source": [
    "# Wczytanie bibliotek"
   ]
  },
  {
   "cell_type": "code",
   "execution_count": 1,
   "id": "c16ed7f4-95a8-41f7-ad1f-ae03277d451d",
   "metadata": {
    "tags": []
   },
   "outputs": [],
   "source": [
    "import matplotlib.pyplot as plt\n",
    "import numpy as np\n",
    "import pandas as pd\n",
    "from sklearn.datasets import load_breast_cancer\n",
    "from sklearn.model_selection import train_test_split, cross_val_score, StratifiedKFold\n",
    "from sklearn.preprocessing import StandardScaler\n",
    "from sklearn.linear_model import LogisticRegression\n",
    "from sklearn.pipeline import Pipeline\n",
    "%matplotlib inline\n"
   ]
  },
  {
   "cell_type": "markdown",
   "id": "4202db29-a21e-4702-a7f8-13dd1cb35b12",
   "metadata": {},
   "source": [
    "# Regresja logistyczna"
   ]
  },
  {
   "cell_type": "markdown",
   "id": "0c3a01bf-264f-4a99-93c3-11cffc18343b",
   "metadata": {
    "tags": []
   },
   "source": [
    "### Ćwiczenie 1: regresja logistyczna, przykład ilustracyjny"
   ]
  },
  {
   "cell_type": "markdown",
   "id": "4bb70628-0eb5-4602-8856-fa8578a76daa",
   "metadata": {},
   "source": [
    "Dla danych dane1 dotyczących zdawalności egzaminu w zależności od czasu poświęconego na naukę, zbuduj model \n",
    "regresji logistycznej na danych treningowych i oceń dopasowanie na danych testowych. Przedstaw wyniki \n",
    "na wykresie. Według zbudowanego modelu, jakie jest prawdopodobieństwo zdania egzaminu dla osoby, która uczyła się przez 6 godzin? "
   ]
  },
  {
   "cell_type": "code",
   "execution_count": 70,
   "id": "ee67737a-247d-4c90-bc3e-1b93310ab9e1",
   "metadata": {
    "tags": []
   },
   "outputs": [],
   "source": [
    "dane1 = pd.read_csv(\"dane1_log.csv\")"
   ]
  },
  {
   "cell_type": "code",
   "execution_count": 71,
   "id": "bdfbeccf-fdea-43de-90b9-dc28abe86c4f",
   "metadata": {
    "tags": []
   },
   "outputs": [
    {
     "data": {
      "text/html": [
       "<div>\n",
       "<style scoped>\n",
       "    .dataframe tbody tr th:only-of-type {\n",
       "        vertical-align: middle;\n",
       "    }\n",
       "\n",
       "    .dataframe tbody tr th {\n",
       "        vertical-align: top;\n",
       "    }\n",
       "\n",
       "    .dataframe thead th {\n",
       "        text-align: right;\n",
       "    }\n",
       "</style>\n",
       "<table border=\"1\" class=\"dataframe\">\n",
       "  <thead>\n",
       "    <tr style=\"text-align: right;\">\n",
       "      <th></th>\n",
       "      <th>Hours</th>\n",
       "      <th>Pass</th>\n",
       "    </tr>\n",
       "  </thead>\n",
       "  <tbody>\n",
       "    <tr>\n",
       "      <th>0</th>\n",
       "      <td>0.50</td>\n",
       "      <td>0</td>\n",
       "    </tr>\n",
       "    <tr>\n",
       "      <th>1</th>\n",
       "      <td>0.75</td>\n",
       "      <td>0</td>\n",
       "    </tr>\n",
       "    <tr>\n",
       "      <th>2</th>\n",
       "      <td>1.00</td>\n",
       "      <td>0</td>\n",
       "    </tr>\n",
       "    <tr>\n",
       "      <th>3</th>\n",
       "      <td>1.25</td>\n",
       "      <td>0</td>\n",
       "    </tr>\n",
       "    <tr>\n",
       "      <th>4</th>\n",
       "      <td>1.50</td>\n",
       "      <td>0</td>\n",
       "    </tr>\n",
       "    <tr>\n",
       "      <th>5</th>\n",
       "      <td>1.75</td>\n",
       "      <td>0</td>\n",
       "    </tr>\n",
       "    <tr>\n",
       "      <th>6</th>\n",
       "      <td>1.75</td>\n",
       "      <td>1</td>\n",
       "    </tr>\n",
       "    <tr>\n",
       "      <th>7</th>\n",
       "      <td>2.00</td>\n",
       "      <td>0</td>\n",
       "    </tr>\n",
       "    <tr>\n",
       "      <th>8</th>\n",
       "      <td>2.25</td>\n",
       "      <td>1</td>\n",
       "    </tr>\n",
       "    <tr>\n",
       "      <th>9</th>\n",
       "      <td>2.50</td>\n",
       "      <td>0</td>\n",
       "    </tr>\n",
       "    <tr>\n",
       "      <th>10</th>\n",
       "      <td>2.75</td>\n",
       "      <td>1</td>\n",
       "    </tr>\n",
       "    <tr>\n",
       "      <th>11</th>\n",
       "      <td>3.00</td>\n",
       "      <td>0</td>\n",
       "    </tr>\n",
       "    <tr>\n",
       "      <th>12</th>\n",
       "      <td>3.25</td>\n",
       "      <td>1</td>\n",
       "    </tr>\n",
       "    <tr>\n",
       "      <th>13</th>\n",
       "      <td>3.50</td>\n",
       "      <td>0</td>\n",
       "    </tr>\n",
       "    <tr>\n",
       "      <th>14</th>\n",
       "      <td>4.00</td>\n",
       "      <td>1</td>\n",
       "    </tr>\n",
       "    <tr>\n",
       "      <th>15</th>\n",
       "      <td>4.25</td>\n",
       "      <td>1</td>\n",
       "    </tr>\n",
       "    <tr>\n",
       "      <th>16</th>\n",
       "      <td>4.50</td>\n",
       "      <td>1</td>\n",
       "    </tr>\n",
       "    <tr>\n",
       "      <th>17</th>\n",
       "      <td>4.75</td>\n",
       "      <td>1</td>\n",
       "    </tr>\n",
       "    <tr>\n",
       "      <th>18</th>\n",
       "      <td>5.00</td>\n",
       "      <td>1</td>\n",
       "    </tr>\n",
       "    <tr>\n",
       "      <th>19</th>\n",
       "      <td>5.50</td>\n",
       "      <td>1</td>\n",
       "    </tr>\n",
       "  </tbody>\n",
       "</table>\n",
       "</div>"
      ],
      "text/plain": [
       "    Hours  Pass\n",
       "0    0.50     0\n",
       "1    0.75     0\n",
       "2    1.00     0\n",
       "3    1.25     0\n",
       "4    1.50     0\n",
       "5    1.75     0\n",
       "6    1.75     1\n",
       "7    2.00     0\n",
       "8    2.25     1\n",
       "9    2.50     0\n",
       "10   2.75     1\n",
       "11   3.00     0\n",
       "12   3.25     1\n",
       "13   3.50     0\n",
       "14   4.00     1\n",
       "15   4.25     1\n",
       "16   4.50     1\n",
       "17   4.75     1\n",
       "18   5.00     1\n",
       "19   5.50     1"
      ]
     },
     "execution_count": 71,
     "metadata": {},
     "output_type": "execute_result"
    }
   ],
   "source": [
    "dane1"
   ]
  },
  {
   "cell_type": "code",
   "execution_count": 72,
   "id": "08d1eb0e-395e-4570-b064-4b6fbb332c49",
   "metadata": {
    "tags": []
   },
   "outputs": [],
   "source": [
    "X_train, X_test, y_train, y_test = train_test_split(dane1[\"Hours\"], dane1[\"Pass\"], stratify = dane1[\"Pass\"], random_state = 17)"
   ]
  },
  {
   "cell_type": "code",
   "execution_count": 73,
   "id": "9f80a450-9a11-4819-ab33-5de0a1b9475c",
   "metadata": {
    "tags": []
   },
   "outputs": [],
   "source": [
    "X_train = np.array(X_train).reshape((-1, 1))"
   ]
  },
  {
   "cell_type": "code",
   "execution_count": 74,
   "id": "e904de2f-464b-4ce2-9bd4-38a07313c34d",
   "metadata": {
    "tags": []
   },
   "outputs": [],
   "source": [
    "X_test = np.array(X_test).reshape((-1, 1))"
   ]
  },
  {
   "cell_type": "markdown",
   "id": "1cc0455f-5123-43bd-a715-2f0e6156c4de",
   "metadata": {},
   "source": [
    "https://scikit-learn.org/stable/modules/generated/sklearn.linear_model.LogisticRegression.html"
   ]
  },
  {
   "cell_type": "code",
   "execution_count": 104,
   "id": "7c3ec1de-dfec-4951-95ee-53399927f4ba",
   "metadata": {
    "tags": []
   },
   "outputs": [],
   "source": [
    "model1 = LogisticRegression() # L2, C = 1"
   ]
  },
  {
   "cell_type": "code",
   "execution_count": 105,
   "id": "644db215-2bf7-45e3-8183-02104fd24ff9",
   "metadata": {
    "tags": []
   },
   "outputs": [
    {
     "data": {
      "text/html": [
       "<style>#sk-container-id-9 {color: black;background-color: white;}#sk-container-id-9 pre{padding: 0;}#sk-container-id-9 div.sk-toggleable {background-color: white;}#sk-container-id-9 label.sk-toggleable__label {cursor: pointer;display: block;width: 100%;margin-bottom: 0;padding: 0.3em;box-sizing: border-box;text-align: center;}#sk-container-id-9 label.sk-toggleable__label-arrow:before {content: \"▸\";float: left;margin-right: 0.25em;color: #696969;}#sk-container-id-9 label.sk-toggleable__label-arrow:hover:before {color: black;}#sk-container-id-9 div.sk-estimator:hover label.sk-toggleable__label-arrow:before {color: black;}#sk-container-id-9 div.sk-toggleable__content {max-height: 0;max-width: 0;overflow: hidden;text-align: left;background-color: #f0f8ff;}#sk-container-id-9 div.sk-toggleable__content pre {margin: 0.2em;color: black;border-radius: 0.25em;background-color: #f0f8ff;}#sk-container-id-9 input.sk-toggleable__control:checked~div.sk-toggleable__content {max-height: 200px;max-width: 100%;overflow: auto;}#sk-container-id-9 input.sk-toggleable__control:checked~label.sk-toggleable__label-arrow:before {content: \"▾\";}#sk-container-id-9 div.sk-estimator input.sk-toggleable__control:checked~label.sk-toggleable__label {background-color: #d4ebff;}#sk-container-id-9 div.sk-label input.sk-toggleable__control:checked~label.sk-toggleable__label {background-color: #d4ebff;}#sk-container-id-9 input.sk-hidden--visually {border: 0;clip: rect(1px 1px 1px 1px);clip: rect(1px, 1px, 1px, 1px);height: 1px;margin: -1px;overflow: hidden;padding: 0;position: absolute;width: 1px;}#sk-container-id-9 div.sk-estimator {font-family: monospace;background-color: #f0f8ff;border: 1px dotted black;border-radius: 0.25em;box-sizing: border-box;margin-bottom: 0.5em;}#sk-container-id-9 div.sk-estimator:hover {background-color: #d4ebff;}#sk-container-id-9 div.sk-parallel-item::after {content: \"\";width: 100%;border-bottom: 1px solid gray;flex-grow: 1;}#sk-container-id-9 div.sk-label:hover label.sk-toggleable__label {background-color: #d4ebff;}#sk-container-id-9 div.sk-serial::before {content: \"\";position: absolute;border-left: 1px solid gray;box-sizing: border-box;top: 0;bottom: 0;left: 50%;z-index: 0;}#sk-container-id-9 div.sk-serial {display: flex;flex-direction: column;align-items: center;background-color: white;padding-right: 0.2em;padding-left: 0.2em;position: relative;}#sk-container-id-9 div.sk-item {position: relative;z-index: 1;}#sk-container-id-9 div.sk-parallel {display: flex;align-items: stretch;justify-content: center;background-color: white;position: relative;}#sk-container-id-9 div.sk-item::before, #sk-container-id-9 div.sk-parallel-item::before {content: \"\";position: absolute;border-left: 1px solid gray;box-sizing: border-box;top: 0;bottom: 0;left: 50%;z-index: -1;}#sk-container-id-9 div.sk-parallel-item {display: flex;flex-direction: column;z-index: 1;position: relative;background-color: white;}#sk-container-id-9 div.sk-parallel-item:first-child::after {align-self: flex-end;width: 50%;}#sk-container-id-9 div.sk-parallel-item:last-child::after {align-self: flex-start;width: 50%;}#sk-container-id-9 div.sk-parallel-item:only-child::after {width: 0;}#sk-container-id-9 div.sk-dashed-wrapped {border: 1px dashed gray;margin: 0 0.4em 0.5em 0.4em;box-sizing: border-box;padding-bottom: 0.4em;background-color: white;}#sk-container-id-9 div.sk-label label {font-family: monospace;font-weight: bold;display: inline-block;line-height: 1.2em;}#sk-container-id-9 div.sk-label-container {text-align: center;}#sk-container-id-9 div.sk-container {/* jupyter's `normalize.less` sets `[hidden] { display: none; }` but bootstrap.min.css set `[hidden] { display: none !important; }` so we also need the `!important` here to be able to override the default hidden behavior on the sphinx rendered scikit-learn.org. See: https://github.com/scikit-learn/scikit-learn/issues/21755 */display: inline-block !important;position: relative;}#sk-container-id-9 div.sk-text-repr-fallback {display: none;}</style><div id=\"sk-container-id-9\" class=\"sk-top-container\"><div class=\"sk-text-repr-fallback\"><pre>LogisticRegression()</pre><b>In a Jupyter environment, please rerun this cell to show the HTML representation or trust the notebook. <br />On GitHub, the HTML representation is unable to render, please try loading this page with nbviewer.org.</b></div><div class=\"sk-container\" hidden><div class=\"sk-item\"><div class=\"sk-estimator sk-toggleable\"><input class=\"sk-toggleable__control sk-hidden--visually\" id=\"sk-estimator-id-9\" type=\"checkbox\" checked><label for=\"sk-estimator-id-9\" class=\"sk-toggleable__label sk-toggleable__label-arrow\">LogisticRegression</label><div class=\"sk-toggleable__content\"><pre>LogisticRegression()</pre></div></div></div></div></div>"
      ],
      "text/plain": [
       "LogisticRegression()"
      ]
     },
     "execution_count": 105,
     "metadata": {},
     "output_type": "execute_result"
    }
   ],
   "source": [
    "model1.fit(X_train, y_train)"
   ]
  },
  {
   "cell_type": "code",
   "execution_count": 106,
   "id": "6d02e582-3cdf-49d3-b9c6-24756d2359c3",
   "metadata": {
    "tags": []
   },
   "outputs": [
    {
     "data": {
      "text/plain": [
       "array([[1.03005664]])"
      ]
     },
     "execution_count": 106,
     "metadata": {},
     "output_type": "execute_result"
    }
   ],
   "source": [
    "model1.coef_"
   ]
  },
  {
   "cell_type": "code",
   "execution_count": 107,
   "id": "5a5e2b9d-4c5d-418a-973f-33fa38c5a961",
   "metadata": {
    "tags": []
   },
   "outputs": [
    {
     "data": {
      "text/plain": [
       "array([-2.99906149])"
      ]
     },
     "execution_count": 107,
     "metadata": {},
     "output_type": "execute_result"
    }
   ],
   "source": [
    "model1.intercept_"
   ]
  },
  {
   "cell_type": "markdown",
   "id": "ad68cf15-0e4d-41d4-b6dc-97e07e597bfa",
   "metadata": {},
   "source": [
    "p(x) = 1/(1+exp(3-1.03x))"
   ]
  },
  {
   "cell_type": "code",
   "execution_count": 108,
   "id": "fd3507a8-01ea-41fa-99b3-1ae826eda10f",
   "metadata": {
    "tags": []
   },
   "outputs": [
    {
     "data": {
      "text/plain": [
       "array([0, 0, 0, 0, 1, 1, 0, 0, 0, 1, 1, 1, 1, 0, 1])"
      ]
     },
     "execution_count": 108,
     "metadata": {},
     "output_type": "execute_result"
    }
   ],
   "source": [
    "model1.predict(X_train)"
   ]
  },
  {
   "cell_type": "code",
   "execution_count": 109,
   "id": "fd061383-1be7-4373-b3ea-f9fe57a06e64",
   "metadata": {
    "tags": []
   },
   "outputs": [
    {
     "data": {
      "text/plain": [
       "3     0\n",
       "5     0\n",
       "4     0\n",
       "9     0\n",
       "14    1\n",
       "11    0\n",
       "0     0\n",
       "6     1\n",
       "2     0\n",
       "12    1\n",
       "15    1\n",
       "19    1\n",
       "18    1\n",
       "10    1\n",
       "13    0\n",
       "Name: Pass, dtype: int64"
      ]
     },
     "execution_count": 109,
     "metadata": {},
     "output_type": "execute_result"
    }
   ],
   "source": [
    "y_train"
   ]
  },
  {
   "cell_type": "code",
   "execution_count": 110,
   "id": "d33d49b9-df2e-433a-a100-71cbb24c0642",
   "metadata": {
    "tags": []
   },
   "outputs": [
    {
     "data": {
      "text/plain": [
       "0.7333333333333333"
      ]
     },
     "execution_count": 110,
     "metadata": {},
     "output_type": "execute_result"
    }
   ],
   "source": [
    "np.mean(model1.predict(X_train) == y_train)"
   ]
  },
  {
   "cell_type": "code",
   "execution_count": 111,
   "id": "52a47ac1-65e7-46ea-a788-7287be4f2435",
   "metadata": {
    "tags": []
   },
   "outputs": [
    {
     "data": {
      "text/plain": [
       "0.7333333333333333"
      ]
     },
     "execution_count": 111,
     "metadata": {},
     "output_type": "execute_result"
    }
   ],
   "source": [
    "model1.score(X_train, y_train)"
   ]
  },
  {
   "cell_type": "code",
   "execution_count": 112,
   "id": "fa0b5ffb-828b-40e5-8a48-169ea8770d68",
   "metadata": {
    "tags": []
   },
   "outputs": [
    {
     "data": {
      "text/plain": [
       "0.8"
      ]
     },
     "execution_count": 112,
     "metadata": {},
     "output_type": "execute_result"
    }
   ],
   "source": [
    "model1.score(X_test, y_test)"
   ]
  },
  {
   "cell_type": "code",
   "execution_count": 128,
   "id": "0bffb0f3-0cfb-424b-bdb5-290b219d8851",
   "metadata": {
    "tags": []
   },
   "outputs": [
    {
     "data": {
      "image/png": "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