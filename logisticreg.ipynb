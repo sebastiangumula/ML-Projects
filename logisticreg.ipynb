{
 "cells": [
  {
   "cell_type": "markdown",
   "id": "300b9d8d-22e8-4ba2-8e72-439ca02053e4",
   "metadata": {},
   "source": [
    "# Wczytanie bibliotek"
   ]
  },
  {
   "cell_type": "code",
   "execution_count": 1,
   "id": "028e63d4-18ac-436b-85f6-c6ef2eb65503",
   "metadata": {
    "tags": []
   },
   "outputs": [],
   "source": [
    "import matplotlib.pyplot as plt\n",
    "import numpy as np\n",
    "import pandas as pd\n",
    "from sklearn.datasets import load_breast_cancer\n",
    "%matplotlib inline"
   ]
  },
  {
   "cell_type": "markdown",
   "id": "928c84d0-05aa-4713-8f34-d930a531c46d",
   "metadata": {},
   "source": [
    "# Regresja logistyczna"
   ]
  },
  {
   "cell_type": "markdown",
   "id": "f2b576b5-ebec-4422-974d-240de0f939f0",
   "metadata": {},
   "source": [
    "### Ćwiczenie 1: regresja logistyczna, przykład ilustracyjny"
   ]
  },
  {
   "cell_type": "markdown",
   "id": "8f85cb5f-eba4-4cb4-a164-ecf22930e573",
   "metadata": {},
   "source": [
    "Dla danych dane1 dotyczących zdawalności egzaminu w zależności od czasu poświęconego na naukę, zbuduj model \n",
    "regresji logistycznej na danych treningowych i oceń dopasowanie na danych testowych. Przedstaw wyniki \n",
    "na wykresie. Według zbudowanego modelu, jakie jest prawdopodobieństwo zdania egzaminu dla osoby, która uczyła się przez 6 godzin? "
   ]
  },
  {
   "cell_type": "markdown",
   "id": "9828260b-5d52-4cff-92d0-b6149e341211",
   "metadata": {},
   "source": [
    "dane1 = pd.read_csv(\"dane1_log.csv\")"
   ]
  },
  {
   "cell_type": "markdown",
   "id": "b814d73f-8b39-439e-9a0c-a42d00b80760",
   "metadata": {},
   "source": [
    "### Zadanie 1: regresja logistyczna, breast cancer"
   ]
  },
  {
   "cell_type": "markdown",
   "id": "697cf8e8-936c-4259-b89c-2b6e4e9c2076",
   "metadata": {},
   "source": [
    "Dla danych breast cancer dotyczących złośliwości raka piersi (złośliwy lub nie) w zależności od pomiarów guza, zbuduj model \n",
    "regresji logistycznej na danych treningowych i oceń dopasowanie na danych testowych. Przed dopasowaniem modelu przeskaluj dane."
   ]
  },
  {
   "cell_type": "code",
   "execution_count": 2,
   "id": "58cc979a-2a5e-4e83-b8da-e9c81ba1cc2c",
   "metadata": {
    "tags": []
   },
   "outputs": [],
   "source": [
    "X, y = load_breast_cancer(return_X_y = True, as_frame = True)"
   ]
  },
  {
   "cell_type": "markdown",
   "id": "79f712b9-1161-4886-a3d6-661d5ed5a2bb",
   "metadata": {},
   "source": [
    "https://scikit-learn.org/stable/modules/generated/sklearn.datasets.load_breast_cancer.html"
   ]
  },
  {
   "cell_type": "markdown",
   "id": "711a9aad-6e78-42f3-82d4-6caba43df1d2",
   "metadata": {},
   "source": [
    "### Pipeline - połączymy skalowanie z uczeniem modelu"
   ]
  },
  {
   "cell_type": "markdown",
   "id": "9b64d647-6d62-4735-a520-22151fdc3814",
   "metadata": {},
   "source": [
    "https://scikit-learn.org/stable/modules/generated/sklearn.pipeline.Pipeline.html"
   ]
  },
  {
   "cell_type": "markdown",
   "id": "a8de50fb-5a20-4d1c-b1c2-ba053cc4f873",
   "metadata": {},
   "source": [
    "### Kroswalidacja"
   ]
  },
  {
   "cell_type": "markdown",
   "id": "c52b9f3f-17e6-466b-9315-154b2ce77d1f",
   "metadata": {},
   "source": [
    "https://scikit-learn.org/stable/modules/generated/sklearn.model_selection.cross_val_score.html"
   ]
  },
  {
   "cell_type": "markdown",
   "id": "8a57598f-c620-4cdc-9eee-ed95dbaac08d",
   "metadata": {},
   "source": [
    "### Regresja logistyczna z regularyzacją grzbietową"
   ]
  },
  {
   "cell_type": "markdown",
   "id": "d5b5ef44-a324-478d-beb4-ef3566f5f905",
   "metadata": {},
   "source": [
    "Funkcja LogisticRegression() domyślnie dopasowuje regularyzację grzbietową z parametrem C = 1. Zmieńmy parametr C (1, 10, 1/10, 1/100). \n",
    "Ale użyjmy dla różnych wartości C takiej samej kroswalidacji (tych samych podziałów zbioru)."
   ]
  },
  {
   "cell_type": "markdown",
   "id": "e7936e72-d171-4740-a643-c99c74e07204",
   "metadata": {},
   "source": [
    "### Zadanie 2: regresja logistyczna z LASSO, breast cancer"
   ]
  },
  {
   "cell_type": "markdown",
   "id": "97e8258a-1577-45fc-9fca-9fe668bc4876",
   "metadata": {},
   "source": [
    "Zbuduj model regresji logistycznej z LASSO dla danych breast cancer. Znajdź optymalny parametr C pośród 4 wartości:  .01, .1,  1, 10"
   ]
  },
  {
   "cell_type": "markdown",
   "id": "e5c537a2-43bb-45f9-8621-a582dc88292e",
   "metadata": {},
   "source": [
    "# Źródła:"
   ]
  },
  {
   "cell_type": "markdown",
   "id": "762777dd-2af2-4e16-9e49-463d6d967308",
   "metadata": {},
   "source": [
    "Hastie, Trevor, et al. The elements of statistical learning: data mining, inference, and prediction. Vol. 2. New York: springer, 2009.\n",
    "\n",
    "Muller, Andreas, et al. Machine learning, Python i data science, Wprowadzenie. Helion, 2021.\n",
    "\n",
    "Sklearn tutorials"
   ]
  },
  {
   "cell_type": "code",
   "execution_count": null,
   "id": "fbb58f72-4fc8-4173-a5e2-f7d8475f449b",
   "metadata": {},
   "outputs": [],
   "source": []
  }
 ],
 "metadata": {
  "kernelspec": {
   "display_name": "Python 3 (ipykernel)",
   "language": "python",
   "name": "python3"
  },
  "language_info": {
   "codemirror_mode": {
    "name": "ipython",
    "version": 3
   },
   "file_extension": ".py",
   "mimetype": "text/x-python",
   "name": "python",
   "nbconvert_exporter": "python",
   "pygments_lexer": "ipython3",
   "version": "3.10.9"
  }
 },
 "nbformat": 4,
 "nbformat_minor": 5
}