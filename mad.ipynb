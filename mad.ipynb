{
 "cells": [
  {
   "cell_type": "markdown",
   "id": "9d62d5b4-16cd-4004-8e63-7c49ccd21594",
   "metadata": {},
   "source": [
    "# Wczytanie bibliotek"
   ]
  },
  {
   "cell_type": "code",
   "execution_count": 5,
   "id": "595fe212-c310-4d42-8d10-d7f3ee287966",
   "metadata": {
    "tags": []
   },
   "outputs": [],
   "source": [
    "import matplotlib.pyplot as plt\n",
    "import numpy as np\n",
    "import pandas as pd\n",
    "from sklearn.datasets import make_regression\n",
    "%matplotlib inline"
   ]
  },
  {
   "cell_type": "markdown",
   "id": "943fd425-98b4-4b52-9fb5-a0833b9c1289",
   "metadata": {},
   "source": [
    "# Regresja liniowa"
   ]
  },
  {
   "cell_type": "markdown",
   "id": "a4e2d317-73e6-41a6-b376-dba69f189443",
   "metadata": {},
   "source": [
    "### Ćwiczenie 1: regresja liniowa, przykład ilustracyjny"
   ]
  },
  {
   "cell_type": "markdown",
   "id": "99a2977f-382e-4c28-af5b-5fcf2f55d96a",
   "metadata": {},
   "source": [
    "Dla danych dane1 dotyczących wielkości czynszu za mieszkanie w zależności od jego wielkości, zbuduj model \n",
    "regresji liniowej na danych treningowych i oceń dopasowanie na danych testowych. Znajdź równanie prostej regresji i przedstaw ją \n",
    "na wykresie."
   ]
  },
  {
   "cell_type": "code",
   "execution_count": 2,
   "id": "a4b82b69-5364-4e9f-9c4d-cf0b75f74d3a",
   "metadata": {
    "tags": []
   },
   "outputs": [],
   "source": [
    "dane1 = pd.read_csv(\"dane1.csv\")"
   ]
  },
  {
   "cell_type": "markdown",
   "id": "612c8bb6-7db3-49e9-a74e-54b930326ecd",
   "metadata": {},
   "source": [
    "### Zadanie 1: obserwacje odstające"
   ]
  },
  {
   "cell_type": "markdown",
   "id": "333bead6-cd5b-4b47-abb8-29b101483b64",
   "metadata": {},
   "source": [
    "Dla danych dane2 dotyczących wielkości czynszu za mieszkanie w zależności od jego wielkości, zbuduj model \n",
    "regresji liniowej na danych treningowych i oceń dopasowanie na danych testowych. Znajdź równanie prostej regresji i przedstaw ją \n",
    "na wykresie. Dlaczego dopasowanie jest kiepskie i jak je można poprawić?"
   ]
  },
  {
   "cell_type": "code",
   "execution_count": 3,
   "id": "1b2ba819-7696-4e4c-8c8a-46ea116bf215",
   "metadata": {
    "tags": []
   },
   "outputs": [],
   "source": [
    "dane2 = pd.read_csv(\"dane2.csv\")"
   ]
  },
  {
   "cell_type": "markdown",
   "id": "280451f1-36d8-4d22-a350-f28c6c1ff573",
   "metadata": {},
   "source": [
    "### Zadanie 2: transformacja y"
   ]
  },
  {
   "cell_type": "markdown",
   "id": "fffc9ba0-fd13-43ee-99c5-04f42b5ab336",
   "metadata": {},
   "source": [
    "Dla danych dane3 zbuduj model \n",
    "regresji liniowej na danych treningowych i oceń dopasowanie na danych testowych. Znajdź równanie prostej regresji i przedstaw ją \n",
    "na wykresie. Dlaczego dopasowanie jest kiepskie i jak je można poprawić?"
   ]
  },
  {
   "cell_type": "code",
   "execution_count": 6,
   "id": "3a96bc77-6266-4473-a30c-89c82d5a5cad",
   "metadata": {
    "tags": []
   },
   "outputs": [],
   "source": [
    "x, y = make_regression(n_samples = 1000, n_features = 1, noise = 100, random_state = 0)\n",
    "y = np.expm1((y + abs(y.min())) / 200).reshape(-1, 1)\n",
    "dane3 = pd.DataFrame(np.hstack([x, y]), columns = [\"x\", \"y\"])"
   ]
  },
  {
   "cell_type": "markdown",
   "id": "dfb20769-0e28-4563-af88-3fe9b85a8c65",
   "metadata": {},
   "source": [
    "### Ćwiczenie 2: zmienne jakościowe"
   ]
  },
  {
   "cell_type": "markdown",
   "id": "c86d1593-657f-4756-bb8d-ee002a73a577",
   "metadata": {},
   "source": [
    "Dla danych dane4 zbuduj model \n",
    "regresji liniowej na danych treningowych i oceń dopasowanie na danych testowych. Zmienną jakościową \n",
    "area zakoduj za pomocą zmiennych binarnych."
   ]
  },
  {
   "cell_type": "code",
   "execution_count": 7,
   "id": "cb408c48-c342-45a6-a7e6-f338b440d01a",
   "metadata": {
    "tags": []
   },
   "outputs": [],
   "source": [
    "dane4 = pd.read_csv(\"dane4.csv\")"
   ]
  },
  {
   "cell_type": "markdown",
   "id": "486286a7-caee-4d84-87bd-2224f88b85eb",
   "metadata": {},
   "source": [
    "### Zadanie 3: Fish"
   ]
  },
  {
   "cell_type": "markdown",
   "id": "da4acb27-23ef-4198-ae9b-7f302e7bf8cd",
   "metadata": {},
   "source": [
    "https://www.kaggle.com/datasets/aungpyaeap/fish-market?resource=download"
   ]
  },
  {
   "cell_type": "markdown",
   "id": "c5c9050d-08f9-40b5-9279-61629f9446a5",
   "metadata": {},
   "source": [
    "Dla danych Fish z Kaggle zbuduj model \n",
    "regresji liniowej na danych treningowych i oceń dopasowanie na danych testowych. Zmienną jakościowe zakoduj za pomocą zmiennych binarnych. Zmienną objaśnianą jest Weight."
   ]
  },
  {
   "cell_type": "code",
   "execution_count": 8,
   "id": "26daaaff-8321-4d0b-bcec-177fb9805db1",
   "metadata": {
    "tags": []
   },
   "outputs": [],
   "source": [
    "Fish = pd.read_csv(\"Fish.csv\")"
   ]
  },
  {
   "cell_type": "markdown",
   "id": "688b220e-c366-4565-9988-4ef95015554e",
   "metadata": {},
   "source": [
    "### Ćwiczenie 3: dodawanie wielomianów cech oryginalnych"
   ]
  },
  {
   "cell_type": "code",
   "execution_count": 9,
   "id": "e889aa90-6603-41c7-b88c-84f64df2a23f",
   "metadata": {
    "tags": []
   },
   "outputs": [],
   "source": [
    "dane5 = pd.read_csv(\"dane5.csv\")"
   ]
  },
  {
   "cell_type": "markdown",
   "id": "9c6cf48b-745a-4260-9575-ed70233ed4cc",
   "metadata": {},
   "source": [
    "### Ćwiczenie 3 c.d.: LASSO, zbiór walidacyjny"
   ]
  },
  {
   "cell_type": "markdown",
   "id": "4dcb803f-62e3-4b16-9401-7059e00ce049",
   "metadata": {},
   "source": [
    "Dla danych X_poly i y zbuduj model regresji LASSO, wybierz najlepszy parametr alpha i oceń dopasowanie na \n",
    "zbiorze testowym. Porównaj wynik ze zwykłą metodą najmniejszych kwadratów."
   ]
  },
  {
   "cell_type": "markdown",
   "id": "a8cbe590-ecee-44e8-accb-abe05170761e",
   "metadata": {},
   "source": [
    "# Źródła:"
   ]
  },
  {
   "cell_type": "markdown",
   "id": "f7caddbf-6a3c-47d6-aff5-995a71879a80",
   "metadata": {},
   "source": [
    "Hastie, Trevor, et al. The elements of statistical learning: data mining, inference, and prediction. Vol. 2. New York: springer, 2009.\n",
    "\n",
    "Muller, Andreas, et al. Machine learning, Python i data science, Wprowadzenie. Helion, 2021.\n",
    "\n",
    "Sklearn tutorials"
   ]
  }
 ],
 "metadata": {
  "kernelspec": {
   "display_name": "Python 3 (ipykernel)",
   "language": "python",
   "name": "python3"
  },
  "language_info": {
   "codemirror_mode": {
    "name": "ipython",
    "version": 3
   },
   "file_extension": ".py",
   "mimetype": "text/x-python",
   "name": "python",
   "nbconvert_exporter": "python",
   "pygments_lexer": "ipython3",
   "version": "3.10.9"
  }
 },
 "nbformat": 4,
 "nbformat_minor": 5
}